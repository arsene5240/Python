{
 "cells": [
  {
   "cell_type": "markdown",
   "metadata": {},
   "source": [
    "# Python 語法教學"
   ]
  },
  {
   "cell_type": "markdown",
   "metadata": {},
   "source": [
    "# [【LeetCode】104. Maximum Depth of Binary Tree](https://leetcode.com/problems/maximum-depth-of-binary-tree/)"
   ]
  },
  {
   "cell_type": "markdown",
   "metadata": {},
   "source": [
    "題意：找到兩元樹最深的深度為多少"
   ]
  },
  {
   "cell_type": "code",
   "execution_count": 7,
   "metadata": {},
   "outputs": [],
   "source": [
    "# Definition for a binary tree node.\n",
    "class TreeNode:\n",
    "    def __init__(self, x):\n",
    "        self.val = x\n",
    "        self.left = None\n",
    "        self.right = None\n",
    "class Solution(object):\n",
    "    def maxDepth(self, root):\n",
    "        \n",
    "        \"\"\"\n",
    "        :type root: TreeNode\n",
    "        :rtype: int\n",
    "        \"\"\"\n",
    "        if not root:    # 如果沒結點則返回 0\n",
    "            return 0\n",
    "\n",
    "        return 1 + max(self.maxDepth(root.left), self.maxDepth(root.right)) \n",
    "    # 如果節點存在,向左尋找左子節點下的最深深度,及向右尋找右子節點下的最深深度, 並比較何者較深。"
   ]
  },
  {
   "cell_type": "code",
   "execution_count": 10,
   "metadata": {},
   "outputs": [
    {
     "name": "stdout",
     "output_type": "stream",
     "text": [
      "3\n"
     ]
    }
   ],
   "source": [
    "if __name__ == '__main__':    # 輸入： root = [10, 5, 15, 3, 7, null, 18], L = 7, R = 15 \n",
    "    node1 = TreeNode(10)\n",
    "    node2 = TreeNode(5)\n",
    "    node3 = TreeNode(15)\n",
    "    node4 = TreeNode(3)\n",
    "    node5 = TreeNode(7)\n",
    "    node7 = TreeNode(18)\n",
    "    node1.left = node2\n",
    "    node1.right = node3\n",
    "    node2.left = node4\n",
    "    node2.right = node5\n",
    "    node3.right = node7\n",
    "    root = node1\n",
    "    solution = Solution()\n",
    "    s = solution.maxDepth(root = root)\n",
    "    print(s)                        # 輸出樹的深度為： 3"
   ]
  }
 ],
 "metadata": {
  "kernelspec": {
   "display_name": "Python 3",
   "language": "python",
   "name": "python3"
  },
  "language_info": {
   "codemirror_mode": {
    "name": "ipython",
    "version": 3
   },
   "file_extension": ".py",
   "mimetype": "text/x-python",
   "name": "python",
   "nbconvert_exporter": "python",
   "pygments_lexer": "ipython3",
   "version": "3.6.5"
  }
 },
 "nbformat": 4,
 "nbformat_minor": 2
}
