{
 "cells": [
  {
   "cell_type": "markdown",
   "metadata": {},
   "source": [
    "# Python 語法教學"
   ]
  },
  {
   "cell_type": "markdown",
   "metadata": {},
   "source": [
    "# [【LeetCode】938. Range Sum of BST](https://leetcode.com/problems/range-sum-of-bst/)"
   ]
  },
  {
   "cell_type": "markdown",
   "metadata": {},
   "source": [
    "題意：找出一個BST中, 計算在[L,R]雙閉區間內的所有節點的值的和."
   ]
  },
  {
   "cell_type": "code",
   "execution_count": 1,
   "metadata": {},
   "outputs": [],
   "source": [
    "class TreeNode:                # 定義 TreeNode function \n",
    "    def __init__(self, x):\n",
    "        self.val = x\n",
    "        self.left = None\n",
    "        self.right = None\n",
    "class Solution(object):\n",
    "    def rangeSumBST(self, root, L, R):\n",
    "        if not root:               # 如果沒有節點則回傳 ０\n",
    "            return 0\n",
    "        res = 0\n",
    "        if L <= root.val <= R: #  如果該節點介於 L 與 R 之間則 result = result + 該節點數值\n",
    "            res += root.val      # res = res + root.val\n",
    "            print(root.val)\n",
    "            res += self.rangeSumBST(root.left, L, R)\n",
    "            res += self.rangeSumBST(root.right, L, R)\n",
    "        elif root.val < L:\n",
    "            print(root.val)\n",
    "            res += self.rangeSumBST(root.right, L, R)\n",
    "        elif root.val > R:\n",
    "            res += self.rangeSumBST(root.left, L, R)\n",
    "        return res"
   ]
  },
  {
   "cell_type": "code",
   "execution_count": 2,
   "metadata": {},
   "outputs": [
    {
     "name": "stdout",
     "output_type": "stream",
     "text": [
      "10\n",
      "5\n",
      "7\n",
      "15\n",
      "32\n"
     ]
    }
   ],
   "source": [
    "if __name__ == '__main__':    # 輸入： root = [10, 5, 15, 3, 7, null, 18], L = 7, R = 15 \n",
    "    node1 = TreeNode(10)\n",
    "    node2 = TreeNode(5)\n",
    "    node3 = TreeNode(15)\n",
    "    node4 = TreeNode(3)\n",
    "    node5 = TreeNode(7)\n",
    "    node7 = TreeNode(18)\n",
    "    node1.left = node2\n",
    "    node1.right = node3\n",
    "    node2.left = node4\n",
    "    node2.right = node5\n",
    "    node3.right = node7\n",
    "    root = node1\n",
    "    solution = Solution()\n",
    "    s = solution.rangeSumBST(root = root, L = 7, R = 15)\n",
    "    print(s)                        # 輸出： 10 + 7 + 15 = 32"
   ]
  }
 ],
 "metadata": {
  "kernelspec": {
   "display_name": "Python 3",
   "language": "python",
   "name": "python3"
  },
  "language_info": {
   "codemirror_mode": {
    "name": "ipython",
    "version": 3
   },
   "file_extension": ".py",
   "mimetype": "text/x-python",
   "name": "python",
   "nbconvert_exporter": "python",
   "pygments_lexer": "ipython3",
   "version": "3.6.5"
  }
 },
 "nbformat": 4,
 "nbformat_minor": 2
}
