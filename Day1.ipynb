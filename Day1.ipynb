{
 "cells": [
  {
   "cell_type": "markdown",
   "metadata": {},
   "source": [
    "# Python 語法教學"
   ]
  },
  {
   "cell_type": "markdown",
   "metadata": {},
   "source": [
    "## class 類別"
   ]
  },
  {
   "cell_type": "code",
   "execution_count": 1,
   "metadata": {},
   "outputs": [
    {
     "name": "stdout",
     "output_type": "stream",
     "text": [
      "Practice for interview\n",
      "You would be a professional developer.\n"
     ]
    }
   ],
   "source": [
    "class Day1:            # class 類別名稱:\n",
    "    str = \"Practice for interview\"     # 物件變數 = \n",
    "    def fun(self):     # 在類別內的函數都至少要傳入參數 self\n",
    "        return \"You would be a professional developer.\"\n",
    " \n",
    "my_obj = Day1()        # 宣告一個類別為 Day1 的物件\n",
    "print(my_obj.str)       # 使用物件的公開變數\n",
    "print(my_obj.fun())    # 使用物件的公開函數"
   ]
  },
  {
   "cell_type": "markdown",
   "metadata": {},
   "source": [
    "## dict 字典"
   ]
  },
  {
   "cell_type": "code",
   "execution_count": 2,
   "metadata": {},
   "outputs": [
    {
     "name": "stdout",
     "output_type": "stream",
     "text": [
      "dict_keys(['A', 'B'])\n",
      "dict_values(['12', '34'])\n",
      "{'A': '12', 'B': '34', 'C': '56'}\n",
      "{'A': '12', 'B': '34', 'C': '56', 'D': '78'}\n",
      "{'A': '90', 'B': '34', 'C': '56', 'D': '78'}\n",
      "{'A': '90', 'C': '56', 'D': '78'}\n"
     ]
    }
   ],
   "source": [
    "emptydict = {}                      # 空字典\n",
    "dict = {\"A\":\"12\",\"B\":\"34\"}       # A 為 12, B 為 34\n",
    "print(dict.keys())\n",
    "print(dict.values())\n",
    "dict.setdefault('C','56')          # 新增 C 為 56\n",
    "print(dict)\n",
    "dict2 = {\"D\":\"78\"}                 # 另外一種新增方法\n",
    "dict.update(dict2)\n",
    "print(dict)\n",
    "dict['A'] = \"90\"                    # 修改 Ａ 為 90\n",
    "print(dict)\n",
    "del dict['B']                        # 刪除 Ｂ\n",
    "print(dict)"
   ]
  },
  {
   "cell_type": "markdown",
   "metadata": {},
   "source": [
    "# [【LeetCode】1. Two Sum](https://leetcode.com/problems/two-sum/)"
   ]
  },
  {
   "cell_type": "markdown",
   "metadata": {},
   "source": [
    "題意：給定一個數組和一個 target, 如果陣列中有兩個數的和恰好等於 target, 返回它們的下標."
   ]
  },
  {
   "cell_type": "code",
   "execution_count": 3,
   "metadata": {},
   "outputs": [],
   "source": [
    "class Solution:                   # class 首字需大寫\n",
    "    def twoSum(self, nums, target):\n",
    "        dict = {}\n",
    "        for i in range(len(nums)):\n",
    "            if target - nums[i] not in dict:\n",
    "                dict[nums[i]] = i\n",
    "                print(i)\n",
    "            else:\n",
    "                return [dict[target-nums[i]], i]"
   ]
  },
  {
   "cell_type": "code",
   "execution_count": 4,
   "metadata": {},
   "outputs": [
    {
     "name": "stdout",
     "output_type": "stream",
     "text": [
      "0\n",
      "1\n",
      "2\n",
      "3\n",
      "4\n"
     ]
    },
    {
     "data": {
      "text/plain": [
       "[0, 5]"
      ]
     },
     "execution_count": 4,
     "metadata": {},
     "output_type": "execute_result"
    }
   ],
   "source": [
    "a = Solution()\n",
    "a.twoSum([1, 4, 7, 10, 15, 33, 22], 34)"
   ]
  },
  {
   "cell_type": "markdown",
   "metadata": {},
   "source": [
    "* 首先 nums 長度為 0~6, 之後放入檢驗 34 - 1 = 33 確定 33 是否存在 dict 中, 此時並不存在 33 在 dict 中, 所以記錄下 dict[1] = 0\n",
    "* 此後檢驗 34 - 4 = 30 確定 30 是否存在 dict 中, 此時並不存在 30 在 dict 中, 所以記錄下 dict[4] = 30\n",
    "* 當檢驗到 i = 5, 34 - 33 = 1 時發現 1 存在 dict 中, 故回傳 [ dict[34 - nums[5]], i = 5], 故回傳 [0, 5]"
   ]
  }
 ],
 "metadata": {
  "kernelspec": {
   "display_name": "Python 3",
   "language": "python",
   "name": "python3"
  },
  "language_info": {
   "codemirror_mode": {
    "name": "ipython",
    "version": 3
   },
   "file_extension": ".py",
   "mimetype": "text/x-python",
   "name": "python",
   "nbconvert_exporter": "python",
   "pygments_lexer": "ipython3",
   "version": "3.6.5"
  }
 },
 "nbformat": 4,
 "nbformat_minor": 2
}
